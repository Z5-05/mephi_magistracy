{
 "cells": [
  {
   "cell_type": "markdown",
   "metadata": {},
   "source": [
    "#### Импорт базовых библиотек"
   ]
  },
  {
   "cell_type": "code",
   "execution_count": 1,
   "metadata": {},
   "outputs": [
    {
     "name": "stdout",
     "output_type": "stream",
     "text": [
      "Python 3.7.3\n"
     ]
    }
   ],
   "source": [
    "!python --version"
   ]
  },
  {
   "cell_type": "code",
   "execution_count": 2,
   "metadata": {},
   "outputs": [
    {
     "name": "stdout",
     "output_type": "stream",
     "text": [
      "Requirement already up-to-date: scikit-learn in c:\\users\\iverendeev\\appdata\\local\\continuum\\anaconda3\\lib\\site-packages (1.0.2)\n",
      "Requirement already satisfied, skipping upgrade: joblib>=0.11 in c:\\users\\iverendeev\\appdata\\local\\continuum\\anaconda3\\lib\\site-packages (from scikit-learn) (0.13.2)\n",
      "Requirement already satisfied, skipping upgrade: scipy>=1.1.0 in c:\\users\\iverendeev\\appdata\\local\\continuum\\anaconda3\\lib\\site-packages (from scikit-learn) (1.2.1)\n",
      "Requirement already satisfied, skipping upgrade: threadpoolctl>=2.0.0 in c:\\users\\iverendeev\\appdata\\local\\continuum\\anaconda3\\lib\\site-packages (from scikit-learn) (3.1.0)\n",
      "Requirement already satisfied, skipping upgrade: numpy>=1.14.6 in c:\\users\\iverendeev\\appdata\\local\\continuum\\anaconda3\\lib\\site-packages (from scikit-learn) (1.16.4)\n"
     ]
    }
   ],
   "source": [
    "!pip install -U scikit-learn"
   ]
  },
  {
   "cell_type": "code",
   "execution_count": 3,
   "metadata": {},
   "outputs": [
    {
     "name": "stdout",
     "output_type": "stream",
     "text": [
      "Name: scikit-learn\n",
      "Version: 1.0.2\n",
      "Summary: A set of python modules for machine learning and data mining\n",
      "Home-page: http://scikit-learn.org\n",
      "Author: None\n",
      "Author-email: None\n",
      "License: new BSD\n",
      "Location: c:\\users\\iverendeev\\appdata\\local\\continuum\\anaconda3\\lib\\site-packages\n",
      "Requires: numpy, threadpoolctl, scipy, joblib\n",
      "Required-by: \n"
     ]
    }
   ],
   "source": [
    "!pip show scikit-learn"
   ]
  },
  {
   "cell_type": "code",
   "execution_count": 4,
   "metadata": {},
   "outputs": [],
   "source": [
    "import numpy as np\n",
    "import pandas as pd\n",
    "import scipy as sc\n",
    "from tqdm import tqdm\n",
    "import matplotlib.pyplot as plt\n",
    "from mpl_toolkits.mplot3d import Axes3D \n",
    "from sklearn.neighbors import KernelDensity\n",
    "\n",
    "import seaborn\n",
    "import scipy.stats as st\n",
    "from sklearn.model_selection import train_test_split\n",
    "from tqdm import tqdm"
   ]
  },
  {
   "cell_type": "markdown",
   "metadata": {},
   "source": [
    "#### Чтение исходных данных:"
   ]
  },
  {
   "cell_type": "code",
   "execution_count": 5,
   "metadata": {},
   "outputs": [],
   "source": [
    "DATA_PATH = r\"data_ml_v3-02.csv\"\n",
    "raw_df = pd.read_csv(DATA_PATH)"
   ]
  },
  {
   "cell_type": "code",
   "execution_count": 6,
   "metadata": {},
   "outputs": [],
   "source": [
    "x = raw_df['x1'].tolist()\n",
    "y = raw_df['x2'].tolist()"
   ]
  },
  {
   "cell_type": "code",
   "execution_count": 7,
   "metadata": {},
   "outputs": [
    {
     "data": {
      "image/png": "[encoded data removed]",
      "text/plain": [
       "<Figure size 432x288 with 1 Axes>"
      ]
     },
     "metadata": {
      "needs_background": "light"
     },
     "output_type": "display_data"
    }
   ],
   "source": [
    "plt.title(\"Total scatter\")\n",
    "\n",
    "plt.scatter(x, y)\n",
    "plt.xlabel('x1')\n",
    "plt.ylabel('x2')\n",
    "plt.grid()\n",
    "plt.show()"
   ]
  },
  {
   "cell_type": "markdown",
   "metadata": {},
   "source": [
    "#### Задания\n",
    "1) Визуализировать плотность распределения, восстановленную с помощью наивного метода, для различных значений ширины окон: а) рассчитанной по правилу Сильвермана; б) слишком большой ширине окна; в) слишком малой ширине окна."
   ]
  },
  {
   "cell_type": "markdown",
   "metadata": {},
   "source": [
    "Найдем оптимальное окно для правила Сильвермана:"
   ]
  },
  {
   "cell_type": "code",
   "execution_count": 8,
   "metadata": {},
   "outputs": [
    {
     "ename": "TypeError",
     "evalue": "'<=' not supported between instances of 'str' and 'int'",
     "output_type": "error",
     "traceback": [
      "\u001b[1;31m---------------------------------------------------------------------------\u001b[0m",
      "\u001b[1;31mTypeError\u001b[0m                                 Traceback (most recent call last)",
      "\u001b[1;32m<ipython-input-8-1194dfb74d04>\u001b[0m in \u001b[0;36m<module>\u001b[1;34m\u001b[0m\n\u001b[1;32m----> 1\u001b[1;33m \u001b[0mKernelDensity\u001b[0m\u001b[1;33m(\u001b[0m\u001b[0mbandwidth\u001b[0m\u001b[1;33m=\u001b[0m\u001b[1;34m\"silverman\"\u001b[0m\u001b[1;33m)\u001b[0m\u001b[1;33m\u001b[0m\u001b[1;33m\u001b[0m\u001b[0m\n\u001b[0m",
      "\u001b[1;32m~\\AppData\\Local\\Continuum\\anaconda3\\lib\\site-packages\\sklearn\\neighbors\\_kde.py\u001b[0m in \u001b[0;36m__init__\u001b[1;34m(self, bandwidth, algorithm, kernel, metric, atol, rtol, breadth_first, leaf_size, metric_params)\u001b[0m\n\u001b[0;32m    141\u001b[0m         \u001b[0mself\u001b[0m\u001b[1;33m.\u001b[0m\u001b[0m_choose_algorithm\u001b[0m\u001b[1;33m(\u001b[0m\u001b[0mself\u001b[0m\u001b[1;33m.\u001b[0m\u001b[0malgorithm\u001b[0m\u001b[1;33m,\u001b[0m \u001b[0mself\u001b[0m\u001b[1;33m.\u001b[0m\u001b[0mmetric\u001b[0m\u001b[1;33m)\u001b[0m\u001b[1;33m\u001b[0m\u001b[1;33m\u001b[0m\u001b[0m\n\u001b[0;32m    142\u001b[0m \u001b[1;33m\u001b[0m\u001b[0m\n\u001b[1;32m--> 143\u001b[1;33m         \u001b[1;32mif\u001b[0m \u001b[0mbandwidth\u001b[0m \u001b[1;33m<=\u001b[0m \u001b[1;36m0\u001b[0m\u001b[1;33m:\u001b[0m\u001b[1;33m\u001b[0m\u001b[1;33m\u001b[0m\u001b[0m\n\u001b[0m\u001b[0;32m    144\u001b[0m             \u001b[1;32mraise\u001b[0m \u001b[0mValueError\u001b[0m\u001b[1;33m(\u001b[0m\u001b[1;34m\"bandwidth must be positive\"\u001b[0m\u001b[1;33m)\u001b[0m\u001b[1;33m\u001b[0m\u001b[1;33m\u001b[0m\u001b[0m\n\u001b[0;32m    145\u001b[0m         \u001b[1;32mif\u001b[0m \u001b[0mkernel\u001b[0m \u001b[1;32mnot\u001b[0m \u001b[1;32min\u001b[0m \u001b[0mVALID_KERNELS\u001b[0m\u001b[1;33m:\u001b[0m\u001b[1;33m\u001b[0m\u001b[1;33m\u001b[0m\u001b[0m\n",
      "\u001b[1;31mTypeError\u001b[0m: '<=' not supported between instances of 'str' and 'int'"
     ]
    }
   ],
   "source": [
    "KernelDensity(bandwidth=\"silverman\")"
   ]
  },
  {
   "cell_type": "code",
   "execution_count": null,
   "metadata": {},
   "outputs": [],
   "source": [
    "kde = KernelDensity(bandwidth=\"silverman\").fit(values)\n",
    "kde.bandwidth_"
   ]
  },
  {
   "cell_type": "code",
   "execution_count": null,
   "metadata": {},
   "outputs": [],
   "source": [
    "deltaX = (max(x) - min(x))/10\n",
    "deltaY = (max(y) - min(y))/10\n",
    "xmin = min(x) - deltaX\n",
    "xmax = max(x) + deltaX\n",
    "ymin = min(y) - deltaY\n",
    "ymax = max(y) + deltaY\n",
    "# Create meshgrid\n",
    "xx, yy = np.mgrid[xmin:xmax:100j, ymin:ymax:100j]"
   ]
  },
  {
   "cell_type": "code",
   "execution_count": null,
   "metadata": {},
   "outputs": [],
   "source": [
    "positions = np.vstack([xx.ravel(), yy.ravel()])\n",
    "values = np.vstack([x, y])\n",
    "kernel = st.gaussian_kde(values)\n",
    "f = np.reshape(kernel(positions).T, xx.shape)"
   ]
  },
  {
   "cell_type": "code",
   "execution_count": null,
   "metadata": {},
   "outputs": [],
   "source": [
    "fig = plt.figure(figsize=(4,4))\n",
    "ax = fig.gca()\n",
    "ax.set_xlim(xmin, xmax)\n",
    "ax.set_ylim(ymin, ymax)\n",
    "cfset = ax.contourf(xx, yy, f, cmap='coolwarm')\n",
    "ax.imshow(np.rot90(f), cmap='coolwarm', extent=[xmin, xmax, ymin, ymax])\n",
    "cset = ax.contour(xx, yy, f, colors='k')\n",
    "ax.clabel(cset, inline=1, fontsize=10)\n",
    "ax.set_xlabel('X')\n",
    "ax.set_ylabel('Y')\n",
    "plt.title('2D Gaussian Kernel density estimation')"
   ]
  },
  {
   "cell_type": "code",
   "execution_count": null,
   "metadata": {},
   "outputs": [],
   "source": [
    "fig = plt.figure(figsize=(13, 7))\n",
    "ax = plt.axes(projection='3d')\n",
    "surf = ax.plot_surface(xx, yy, f, rstride=1, cstride=1, cmap='coolwarm', edgecolor='none')\n",
    "ax.set_xlabel('x')\n",
    "ax.set_ylabel('y')\n",
    "ax.set_zlabel('PDF')\n",
    "ax.set_title('Surface plot of Gaussian 2D KDE')\n",
    "fig.colorbar(surf, shrink=0.5, aspect=5) # add color bar indicating the PDF\n",
    "ax.view_init(60, 35)"
   ]
  },
  {
   "cell_type": "code",
   "execution_count": null,
   "metadata": {},
   "outputs": [],
   "source": []
  },
  {
   "cell_type": "code",
   "execution_count": null,
   "metadata": {},
   "outputs": [],
   "source": []
  },
  {
   "cell_type": "code",
   "execution_count": null,
   "metadata": {},
   "outputs": [],
   "source": []
  },
  {
   "cell_type": "code",
   "execution_count": null,
   "metadata": {},
   "outputs": [],
   "source": [
    "cf = confusion_matrix(raw_df['true_label_named'], raw_df['pred_label_named'])\n",
    "\n",
    "cm_display = ConfusionMatrixDisplay(confusion_matrix=cf, display_labels=[False, True])\n",
    "\n",
    "cm_display.plot()\n",
    "plt.show()"
   ]
  },
  {
   "cell_type": "code",
   "execution_count": null,
   "metadata": {},
   "outputs": [],
   "source": [
    "TN = cf[0][0]\n",
    "FN = cf[1][0]\n",
    "FP = cf[0][1]\n",
    "TP = cf[1][1]"
   ]
  },
  {
   "cell_type": "markdown",
   "metadata": {},
   "source": [
    "2) Рассчитать показатели, основанные на таблице сопряженности: error rate, accuracy, sensitivity, specificity, precision, fall-out, F1-score, Cohen’s kappa."
   ]
  },
  {
   "cell_type": "code",
   "execution_count": null,
   "metadata": {},
   "outputs": [],
   "source": [
    "metrics = {\"status\": \"original\"}"
   ]
  },
  {
   "cell_type": "code",
   "execution_count": null,
   "metadata": {},
   "outputs": [],
   "source": [
    "accuracy = (TN + TP) / (TN + FN + FP + TP)\n",
    "metrics['accuracy'] = [accuracy]\n",
    "\n",
    "print(f\"Accuracy = {round(accuracy, 2)}\")"
   ]
  },
  {
   "cell_type": "code",
   "execution_count": null,
   "metadata": {},
   "outputs": [],
   "source": [
    "error_rate = (FN + FP) / (TN + FN + FP + TP)\n",
    "metrics['error_rate'] = [error_rate]\n",
    "\n",
    "print(f\"Error rate = {round(error_rate, 2)}\")"
   ]
  },
  {
   "cell_type": "code",
   "execution_count": null,
   "metadata": {},
   "outputs": [],
   "source": [
    "sensitivity = TP / (TP + FN)\n",
    "metrics['sensitivity'] = [sensitivity]\n",
    "\n",
    "print(f\"Sensitivity = {round(sensitivity, 2)}\")"
   ]
  },
  {
   "cell_type": "code",
   "execution_count": null,
   "metadata": {},
   "outputs": [],
   "source": [
    "specificity = TN / (TN + FP)\n",
    "metrics['specificity'] = [specificity]\n",
    "\n",
    "print(f\"Specificity = {round(specificity, 2)}\")"
   ]
  },
  {
   "cell_type": "code",
   "execution_count": null,
   "metadata": {},
   "outputs": [],
   "source": [
    "precision = TP / (TP + FP)\n",
    "metrics['precision'] = [precision]\n",
    "\n",
    "print(f\"Precision = {round(precision, 2)}\")"
   ]
  },
  {
   "cell_type": "code",
   "execution_count": null,
   "metadata": {},
   "outputs": [],
   "source": [
    "recall = TP / (TP + FN)\n",
    "metrics['recall'] = [recall]\n",
    "\n",
    "print(f\"Recall = {round(recall, 2)}\")"
   ]
  },
  {
   "cell_type": "code",
   "execution_count": null,
   "metadata": {},
   "outputs": [],
   "source": [
    "fall_out = FP / (FP + TN)\n",
    "metrics[\"fall_out\"] = [fall_out]\n",
    "\n",
    "print(f\"Fall out = {round(fall_out, 2)}\")"
   ]
  },
  {
   "cell_type": "code",
   "execution_count": null,
   "metadata": {},
   "outputs": [],
   "source": [
    "f1_score = 2 * (precision * recall) / (precision + recall)\n",
    "metrics['f1_score'] = [f1_score]\n",
    "\n",
    "print(f\"F1 = {round(f1_score, 2)}\")"
   ]
  },
  {
   "cell_type": "code",
   "execution_count": null,
   "metadata": {},
   "outputs": [],
   "source": [
    "cohens_kappa = 2 * (TP * TN - FN * FP) / ((TP + FP) * (FP + TN) + (TP + FN) * (FN + TN))\n",
    "metrics['cohens_kappa'] = [cohens_kappa]\n",
    "\n",
    "print(f\"Cohen’s kappa = {round(cohens_kappa, 2)}\")"
   ]
  },
  {
   "cell_type": "code",
   "execution_count": null,
   "metadata": {},
   "outputs": [],
   "source": [
    "metrics_df = pd.DataFrame.from_dict(metrics)\n",
    "metrics_df"
   ]
  },
  {
   "cell_type": "markdown",
   "metadata": {},
   "source": [
    "3) Построить график зависимости F()."
   ]
  },
  {
   "cell_type": "code",
   "execution_count": null,
   "metadata": {},
   "outputs": [],
   "source": [
    "f_betta = lambda x: (1 + x**2) * (precision * recall) / (x**2 * precision + recall)"
   ]
  },
  {
   "cell_type": "code",
   "execution_count": null,
   "metadata": {},
   "outputs": [],
   "source": [
    "x = range(1, 10)\n",
    "y = [f_betta(xi) for xi in x]\n",
    "\n",
    "plt.title(\"F score by betta factor\")\n",
    "\n",
    "plt.plot(x, y)\n",
    "plt.xlabel('Betta')\n",
    "plt.ylabel('F score')\n",
    "plt.grid()\n",
    "plt.show()"
   ]
  },
  {
   "cell_type": "markdown",
   "metadata": {},
   "source": [
    "Построить графики зависимости чувствительности и специфичности от объёма выборки."
   ]
  },
  {
   "cell_type": "code",
   "execution_count": null,
   "metadata": {},
   "outputs": [],
   "source": [
    "cf.shape"
   ]
  },
  {
   "cell_type": "code",
   "execution_count": null,
   "metadata": {},
   "outputs": [],
   "source": [
    "def dataset(size: int):\n",
    "    tmp_df = raw_df.sample(size)\n",
    "    cf = confusion_matrix(tmp_df[\"true_label_named\"], tmp_df[\"pred_label_named\"])\n",
    "    if cf.shape == (1, 1):\n",
    "        TN = 0\n",
    "        FN = 0\n",
    "        FP = cf[0][0]\n",
    "        TP = 0\n",
    "    elif cf.shape == (1, 2):\n",
    "        TN = cf[0][1]\n",
    "        FN = 0\n",
    "        FP = cf[0][0]\n",
    "        TP = 0\n",
    "    else:\n",
    "        TN = cf[0][0]\n",
    "        FN = cf[1][0]\n",
    "        FP = cf[0][1]\n",
    "        TP = cf[1][1]\n",
    "    return 0 if TP + FN == 0 else TP / (TP + FN), 0 if TN + FP == 0 else TN / (TN + FP)\n",
    "\n",
    "\n",
    "def experiments(size: int):\n",
    "    sens, spec = 0, 0\n",
    "    for i in range(1000):\n",
    "        tmp_sens, tmp_spec = dataset(size)\n",
    "        sens += tmp_sens\n",
    "        spec += tmp_spec\n",
    "    return sens / 1000, spec / 1000\n",
    "\n",
    "\n",
    "sensitivity, specificity = experiments(3)"
   ]
  },
  {
   "cell_type": "code",
   "execution_count": null,
   "metadata": {},
   "outputs": [],
   "source": [
    "%%time\n",
    "x = range(1, 350, 10)\n",
    "y = [experiments(xi) for xi in tqdm(x)]"
   ]
  },
  {
   "cell_type": "code",
   "execution_count": null,
   "metadata": {},
   "outputs": [],
   "source": [
    "plt.title(\"Sensitivity, specificity by sample size\")\n",
    "\n",
    "plt.plot(x, [yi[0] for yi in y], label='sensitivity')\n",
    "plt.plot(x, [yi[1] for yi in y], label='specificity')\n",
    "plt.xlabel('Sample size')\n",
    "plt.ylabel('Sensitivity, specificity')\n",
    "plt.legend()\n",
    "plt.grid()\n",
    "plt.show()"
   ]
  },
  {
   "cell_type": "markdown",
   "metadata": {},
   "source": [
    "5) Сравнить значения показателей, основанных на таблице сопряженности,  для случая, если положительные и отрицательные классы инвертированы (т.е. если все метки +1 заменить на -1, и все метки -1 – на +1)."
   ]
  },
  {
   "cell_type": "code",
   "execution_count": null,
   "metadata": {},
   "outputs": [],
   "source": [
    "raw_inversed_df = raw_df.copy()\n",
    "raw_inversed_df[\"exp\"] = raw_inversed_df[\"score\"].apply(lambda x: 1 / (1 + np.exp(-x)))\n",
    "raw_inversed_df[\"pred_label\"] = raw_inversed_df[\"exp\"].apply(\n",
    "    lambda x: 1 if x >= 0.5 else -1\n",
    ")\n",
    "raw_inversed_df[\"true_label_named\"] = raw_inversed_df[\"label\"].apply(\n",
    "    lambda x: {-1: \"positive\", 1: \"negative\"}[x]\n",
    ")\n",
    "raw_inversed_df[\"pred_label_named\"] = raw_inversed_df[\"pred_label\"].apply(\n",
    "    lambda x: {-1: \"positive\", 1: \"negative\"}[x]\n",
    ")"
   ]
  },
  {
   "cell_type": "code",
   "execution_count": null,
   "metadata": {},
   "outputs": [],
   "source": [
    "print(f\"Data-size: {raw_df.shape[0]}\")\n",
    "print(f\"Equal prediction: {raw_df[raw_df['true_label_named'] == raw_df['pred_label_named']].shape[0]}\")\n",
    "print(f\"Non equal prediction: {raw_df[raw_df['true_label_named'] != raw_df['pred_label_named']].shape[0]}\")"
   ]
  },
  {
   "cell_type": "code",
   "execution_count": null,
   "metadata": {},
   "outputs": [],
   "source": [
    "cf = confusion_matrix(raw_inversed_df['true_label_named'], raw_inversed_df['pred_label_named'])\n",
    "\n",
    "TN = cf[0][0]\n",
    "FN = cf[1][0]\n",
    "FP = cf[0][1]\n",
    "TP = cf[1][1]"
   ]
  },
  {
   "cell_type": "code",
   "execution_count": null,
   "metadata": {},
   "outputs": [],
   "source": [
    "metrics = {\"status\": \"inversed\"}"
   ]
  },
  {
   "cell_type": "code",
   "execution_count": null,
   "metadata": {},
   "outputs": [],
   "source": [
    "accuracy = (TN + TP) / (TN + FN + FP + TP)\n",
    "metrics['accuracy'] = [accuracy]\n",
    "\n",
    "print(f\"Accuracy = {round(accuracy, 2)}\")\n",
    "\n",
    "error_rate = (FN + FP) / (TN + FN + FP + TP)\n",
    "metrics['error_rate'] = [error_rate]\n",
    "\n",
    "print(f\"Error rate = {round(error_rate, 2)}\")\n",
    "\n",
    "sensitivity = TP / (TP + FN)\n",
    "metrics['sensitivity'] = [sensitivity]\n",
    "\n",
    "print(f\"Sensitivity = {round(sensitivity, 2)}\")\n",
    "\n",
    "specificity = TN / (TN + FP)\n",
    "metrics['specificity'] = [specificity]\n",
    "\n",
    "print(f\"Specificity = {round(specificity, 2)}\")\n",
    "\n",
    "precision = TP / (TP + FP)\n",
    "metrics['precision'] = [precision]\n",
    "\n",
    "print(f\"Precision = {round(precision, 2)}\")\n",
    "\n",
    "recall = TP / (TP + FN)\n",
    "metrics['recall'] = [recall]\n",
    "\n",
    "print(f\"Recall = {round(recall, 2)}\")\n",
    "\n",
    "fall_out = FP / (FP + TN)\n",
    "metrics[\"fall_out\"] = [fall_out]\n",
    "\n",
    "print(f\"Fall out = {round(fall_out, 2)}\")\n",
    "\n",
    "f1_score = 2 * (precision * recall) / (precision + recall)\n",
    "metrics['f1_score'] = [f1_score]\n",
    "\n",
    "print(f\"F1 = {round(f1_score, 2)}\")\n",
    "\n",
    "cohens_kappa = 2 * (TP * TN - FN * FP) / ((TP + FP) * (FP + TN) + (TP + FN) * (FN + TN))\n",
    "metrics['cohens_kappa'] = [cohens_kappa]\n",
    "\n",
    "print(f\"Cohen’s kappa = {round(cohens_kappa, 2)}\")"
   ]
  },
  {
   "cell_type": "code",
   "execution_count": null,
   "metadata": {},
   "outputs": [],
   "source": [
    "metrics_df2 = pd.DataFrame.from_dict(metrics)\n",
    "metrics_df = pd.concat([metrics_df, metrics_df2])\n",
    "metrics_df"
   ]
  },
  {
   "cell_type": "markdown",
   "metadata": {},
   "source": [
    "6) Сделать выводы о качестве классификации на основе рассчитанных значений показателей."
   ]
  },
  {
   "cell_type": "markdown",
   "metadata": {},
   "source": []
  },
  {
   "cell_type": "code",
   "execution_count": null,
   "metadata": {},
   "outputs": [],
   "source": []
  },
  {
   "cell_type": "code",
   "execution_count": null,
   "metadata": {},
   "outputs": [],
   "source": []
  }
 ],
 "metadata": {
  "kernelspec": {
   "display_name": "Python 3",
   "language": "python",
   "name": "python3"
  },
  "language_info": {
   "codemirror_mode": {
    "name": "ipython",
    "version": 3
   },
   "file_extension": ".py",
   "mimetype": "text/x-python",
   "name": "python",
   "nbconvert_exporter": "python",
   "pygments_lexer": "ipython3",
   "version": "3.7.3"
  }
 },
 "nbformat": 4,
 "nbformat_minor": 5
}
