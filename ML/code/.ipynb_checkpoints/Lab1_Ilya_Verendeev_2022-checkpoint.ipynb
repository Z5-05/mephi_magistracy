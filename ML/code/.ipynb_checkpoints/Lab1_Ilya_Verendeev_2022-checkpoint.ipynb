{
 "cells": [
  {
   "cell_type": "markdown",
   "metadata": {},
   "source": [
    "### Импорт базовых библиотек"
   ]
  },
  {
   "cell_type": "code",
   "execution_count": 9,
   "metadata": {},
   "outputs": [],
   "source": [
    "import numpy as np\n",
    "import pandas as pd\n",
    "import scipy as sc\n",
    "import matplotlib.pyplot as plt\n",
    "import seaborn\n",
    "from sklearn.model_selection import train_test_split\n",
    "from tqdm import tqdm"
   ]
  },
  {
   "cell_type": "markdown",
   "metadata": {},
   "source": [
    "### Чтение исходных данных:"
   ]
  },
  {
   "cell_type": "code",
   "execution_count": 10,
   "metadata": {},
   "outputs": [],
   "source": [
    "DATA_PATH = r\"data/data_v1-02.csv\"\n",
    "raw_df = pd.read_csv(DATA_PATH)"
   ]
  },
  {
   "cell_type": "code",
   "execution_count": 11,
   "metadata": {},
   "outputs": [
    {
     "data": {
      "text/html": [
       "<div>\n",
       "<style scoped>\n",
       "    .dataframe tbody tr th:only-of-type {\n",
       "        vertical-align: middle;\n",
       "    }\n",
       "\n",
       "    .dataframe tbody tr th {\n",
       "        vertical-align: top;\n",
       "    }\n",
       "\n",
       "    .dataframe thead th {\n",
       "        text-align: right;\n",
       "    }\n",
       "</style>\n",
       "<table border=\"1\" class=\"dataframe\">\n",
       "  <thead>\n",
       "    <tr style=\"text-align: right;\">\n",
       "      <th></th>\n",
       "      <th>x</th>\n",
       "      <th>y</th>\n",
       "    </tr>\n",
       "  </thead>\n",
       "  <tbody>\n",
       "    <tr>\n",
       "      <th>0</th>\n",
       "      <td>2.28750</td>\n",
       "      <td>-0.42185</td>\n",
       "    </tr>\n",
       "    <tr>\n",
       "      <th>1</th>\n",
       "      <td>0.76879</td>\n",
       "      <td>4.46150</td>\n",
       "    </tr>\n",
       "    <tr>\n",
       "      <th>2</th>\n",
       "      <td>-0.73421</td>\n",
       "      <td>4.39510</td>\n",
       "    </tr>\n",
       "    <tr>\n",
       "      <th>3</th>\n",
       "      <td>-2.12020</td>\n",
       "      <td>2.14640</td>\n",
       "    </tr>\n",
       "    <tr>\n",
       "      <th>4</th>\n",
       "      <td>-2.01430</td>\n",
       "      <td>-2.25580</td>\n",
       "    </tr>\n",
       "  </tbody>\n",
       "</table>\n",
       "</div>"
      ],
      "text/plain": [
       "         x        y\n",
       "0  2.28750 -0.42185\n",
       "1  0.76879  4.46150\n",
       "2 -0.73421  4.39510\n",
       "3 -2.12020  2.14640\n",
       "4 -2.01430 -2.25580"
      ]
     },
     "execution_count": 11,
     "metadata": {},
     "output_type": "execute_result"
    }
   ],
   "source": [
    "raw_df.head()"
   ]
  },
  {
   "cell_type": "code",
   "execution_count": 12,
   "metadata": {},
   "outputs": [],
   "source": [
    "X = raw_df['x'].to_numpy()\n",
    "y = raw_df['y'].to_numpy()"
   ]
  },
  {
   "cell_type": "code",
   "execution_count": 13,
   "metadata": {},
   "outputs": [
    {
     "data": {
      "image/png": "[encoded data removed]",
      "text/plain": [
       "<Figure size 432x288 with 1 Axes>"
      ]
     },
     "metadata": {
      "needs_background": "light"
     },
     "output_type": "display_data"
    }
   ],
   "source": [
    "plt.scatter(X, y)\n",
    "plt.show()"
   ]
  },
  {
   "cell_type": "markdown",
   "metadata": {},
   "source": [
    "### Задания"
   ]
  },
  {
   "cell_type": "markdown",
   "metadata": {},
   "source": [
    "#### Построить зависимость средней (по фолдам) среднеквадратичной ошибки (MSE) 10 fold кросс-валидации на обучающей и тестовой выборках от параметра m (числа регрессоров в регрессионной модели)"
   ]
  },
  {
   "cell_type": "code",
   "execution_count": 14,
   "metadata": {},
   "outputs": [],
   "source": [
    "from sklearn.preprocessing import PolynomialFeatures\n",
    "from sklearn.linear_model import LinearRegression\n",
    "\n",
    "from sklearn.model_selection import KFold\n",
    "from sklearn.model_selection import cross_val_score\n",
    "from sklearn.metrics import mean_squared_error"
   ]
  },
  {
   "cell_type": "code",
   "execution_count": 15,
   "metadata": {},
   "outputs": [],
   "source": [
    "m = 2\n",
    "\n",
    "poly = PolynomialFeatures(degree=m, include_bias=False)\n",
    "model = LinearRegression()\n",
    "\n",
    "new_X = poly.fit_transform(X.reshape(-1, 1))"
   ]
  },
  {
   "cell_type": "code",
   "execution_count": null,
   "metadata": {},
   "outputs": [],
   "source": [
    "cv = KFold(n_splits=10, random_state=1, shuffle=True)\n",
    "scores = cross_val_score(model, new_X, y, scoring='neg_mean_squared_error',\n",
    "                         cv=cv, n_jobs=-1)\n",
    "scores = [-item for item in scores]"
   ]
  },
  {
   "cell_type": "code",
   "execution_count": null,
   "metadata": {},
   "outputs": [],
   "source": [
    "np.mean(scores)"
   ]
  },
  {
   "cell_type": "code",
   "execution_count": null,
   "metadata": {},
   "outputs": [],
   "source": [
    "def MSE_10fold(m: int, X: np.array, y: np.array)->float:\n",
    "    poly = PolynomialFeatures(degree=m, include_bias=False)\n",
    "    model = LinearRegression()\n",
    "    new_X = poly.fit_transform(X.reshape(-1, 1))\n",
    "    cv = KFold(n_splits=10, random_state=1, shuffle=True)\n",
    "    scores = cross_val_score(model, new_X, y, scoring='neg_mean_squared_error',\n",
    "                             cv=cv, n_jobs=-1)\n",
    "    scores = [-item for item in scores]\n",
    "    return np.log(np.mean(scores))"
   ]
  },
  {
   "cell_type": "code",
   "execution_count": null,
   "metadata": {},
   "outputs": [],
   "source": [
    "m_10fold_list = np.arange(1, 40)\n",
    "loss_10fold_list = []\n",
    "\n",
    "for m in m_10fold_list:\n",
    "    loss_10fold_list.append(MSE_10fold(m, X, y))"
   ]
  },
  {
   "cell_type": "code",
   "execution_count": null,
   "metadata": {},
   "outputs": [],
   "source": [
    "fig, ax = plt.subplots(figsize=(20, 8))\n",
    "plt.title('MSE depending on m - number of regressors')\n",
    "plt.xlabel('Number of regressors')\n",
    "plt.ylabel('MSE')\n",
    "ax.plot(m_10fold_list, loss_10fold_list, 'ro--', linewidth=3)\n",
    "ax.grid()\n",
    "plt.show()"
   ]
  },
  {
   "cell_type": "markdown",
   "metadata": {},
   "source": [
    "#### Построить зависимость средней (по фолдам) среднеквадратичной ошибки (MSE) LOO кросс-валидации на обучающей и тестовой выборках от параметра m"
   ]
  },
  {
   "cell_type": "code",
   "execution_count": null,
   "metadata": {},
   "outputs": [],
   "source": [
    "from sklearn.model_selection import LeaveOneOut"
   ]
  },
  {
   "cell_type": "code",
   "execution_count": null,
   "metadata": {},
   "outputs": [],
   "source": [
    "def MSE_loo(m: int, X:np.array, y:np.array)->float:\n",
    "    poly = PolynomialFeatures(degree=m, include_bias=False)\n",
    "    model = LinearRegression()\n",
    "    new_X = poly.fit_transform(X.reshape(-1, 1))\n",
    "    cv = LeaveOneOut()\n",
    "    scores = cross_val_score(model, new_X, y, scoring='neg_mean_squared_error',\n",
    "                             cv=cv, n_jobs=-1)\n",
    "    scores = [-item for item in scores]\n",
    "    return np.log(np.mean(scores))"
   ]
  },
  {
   "cell_type": "code",
   "execution_count": null,
   "metadata": {},
   "outputs": [],
   "source": [
    "m_loo_list = np.arange(1, 40)\n",
    "loss_loo_list = []\n",
    "\n",
    "for m in m_loo_list:\n",
    "    loss_loo_list.append(MSE_loo(m, X, y))"
   ]
  },
  {
   "cell_type": "code",
   "execution_count": null,
   "metadata": {},
   "outputs": [],
   "source": [
    "fig, ax = plt.subplots(figsize=(20, 8))\n",
    "plt.title('MSE depending on m - number of regressors')\n",
    "plt.xlabel('Number of regressors')\n",
    "plt.ylabel('MSE')\n",
    "ax.plot(m_loo_list, loss_loo_list, 'bo--', linewidth=3, label='LOO')\n",
    "ax.plot(m_10fold_list, loss_10fold_list, 'ro--', linewidth=3, label='KFolds')\n",
    "ax.legend()\n",
    "ax.grid()\n",
    "plt.show()"
   ]
  },
  {
   "cell_type": "markdown",
   "metadata": {},
   "source": [
    "#### Построить гистограммы распределений среднеквадратичной ошибки (MSE) модели на обучающей и тестовой выборках, получаемых в результате кросс-валидации по методу Монте-Карло, привести статистические характеристики ошибок (среднее, дисперсия, с.к.о., доверительные интервалы), для случаев: а) слишком простой модели; б) переобучения; в) хорошей обобщающей способности"
   ]
  },
  {
   "cell_type": "code",
   "execution_count": null,
   "metadata": {},
   "outputs": [],
   "source": []
  },
  {
   "cell_type": "markdown",
   "metadata": {},
   "source": [
    "#### Построить графики зависимости средней и с.к.о. (по фолдам) среднеквадратичной ошибки (MSE) k-fold кросс-валидации на обучающей и тестовой выборках от числа фолдов k для нескольких фиксированных m"
   ]
  },
  {
   "cell_type": "code",
   "execution_count": null,
   "metadata": {},
   "outputs": [],
   "source": [
    "def MSE_kfold(m: int, k:int, X: np.array, y: np.array)->(float, float):\n",
    "    poly = PolynomialFeatures(degree=m, include_bias=False)\n",
    "    model = LinearRegression()\n",
    "    new_X = poly.fit_transform(X.reshape(-1, 1))\n",
    "    cv = KFold(n_splits=k, random_state=1, shuffle=True)\n",
    "    scores = cross_val_score(model, new_X, y, scoring='neg_mean_squared_error',\n",
    "                             cv=cv, n_jobs=-1)\n",
    "    scores = [-item for item in scores]\n",
    "    return np.mean(scores), np.std(scores)"
   ]
  },
  {
   "cell_type": "code",
   "execution_count": null,
   "metadata": {},
   "outputs": [],
   "source": [
    "m_kfolds_list = np.arange(1, 30)\n",
    "k_kfolds_list = np.arange(2, 11, 2)\n",
    "\n",
    "mean_loss_kfolds_list = []\n",
    "std_loss_kfolds_list = []\n",
    "\n",
    "for _ in k_kfolds_list:\n",
    "    mean_loss_kfolds_list.append([])\n",
    "    std_loss_kfolds_list.append([])\n",
    "\n",
    "for k in k_kfolds_list:\n",
    "    for m in m_kfolds_list:\n",
    "        mean, std = MSE_kfold(m, k, X, y)\n",
    "        mean_loss_kfolds_list[k//2-1].append(mean)\n",
    "        std_loss_kfolds_list[k//2-1].append(std)\n",
    "        \n",
    "mean_loss_kfolds_list = np.array(mean_loss_kfolds_list)\n",
    "std_loss_kfolds_list = np.array(std_loss_kfolds_list)"
   ]
  },
  {
   "cell_type": "code",
   "execution_count": null,
   "metadata": {},
   "outputs": [],
   "source": [
    "fig, ax = plt.subplots(figsize=(20, 8))\n",
    "ax.set_title('Log mean MSE depending on m - number of regressors')\n",
    "for k in k_kfolds_list:\n",
    "    ax.semilogy(np.log(mean_loss_kfolds_list[k//2-1]), label=f'k={k}')\n",
    "ax.legend()\n",
    "ax.grid()\n",
    "plt.show()"
   ]
  },
  {
   "cell_type": "code",
   "execution_count": null,
   "metadata": {},
   "outputs": [],
   "source": [
    "fig, axs = plt.subplots(len(k_kfolds_list), \n",
    "                               1, figsize=(10, 4*len(k_kfolds_list)))\n",
    "\n",
    "colors = ['b', 'r', 'g', 'm', 'c']\n",
    "for i in range(len(axs)):\n",
    "    axs[i].set_title('MSE depending on m - number of regressors')\n",
    "    axs[i].plot(np.log(mean_loss_kfolds_list[k_kfolds_list[i]//2-1]), f'{colors[i]}', linewidth=2, label=f'k={k_kfolds_list[i]}')\n",
    "    axs[i].plot(np.log(mean_loss_kfolds_list[k_kfolds_list[i]//2-1] \\\n",
    "                - std_loss_kfolds_list[k_kfolds_list[i]//2-1]), f'{colors[i]}--', linewidth=1)\n",
    "    axs[i].plot(np.log(mean_loss_kfolds_list[k_kfolds_list[i]//2-1] \\\n",
    "                + std_loss_kfolds_list[k_kfolds_list[i]//2-1]), f'{colors[i]}--', linewidth=1)\n",
    "    axs[i].legend()\n",
    "    axs[i].grid()\n",
    "plt.show()"
   ]
  },
  {
   "cell_type": "markdown",
   "metadata": {},
   "source": [
    "#### Построить графики зависимости средней и с.к.о. (по фолдам) среднеквадратичной ошибки (MSE) LOO-кросс-валидации на обучающей и тестовой выборках от объёма обучающей выборки для нескольких фиксированных m"
   ]
  },
  {
   "cell_type": "code",
   "execution_count": null,
   "metadata": {},
   "outputs": [],
   "source": [
    "def MSE_loo(m: int, size:int, X: np.array, y: np.array)->(float, float):\n",
    "    poly = PolynomialFeatures(degree=m, include_bias=False)\n",
    "    model = LinearRegression()\n",
    "    new_X = poly.fit_transform(X.reshape(-1, 1))\n",
    "    idx = np.random.randint(new_X.shape[0], size=size*new_X.shape[0]//100)\n",
    "    new_X = new_X[idx, :]\n",
    "    new_y = y[idx]\n",
    "    cv = LeaveOneOut()\n",
    "    scores = cross_val_score(model, new_X, new_y, scoring='neg_mean_squared_error',\n",
    "                             cv=cv, n_jobs=-1)\n",
    "    scores = [-item for item in scores]\n",
    "    return np.mean(scores), np.std(scores)"
   ]
  },
  {
   "cell_type": "code",
   "execution_count": null,
   "metadata": {},
   "outputs": [],
   "source": [
    "m_loo_list = np.arange(1, 30)\n",
    "size_loo_list = np.arange(10, 100, 20)\n",
    "\n",
    "mean_loss_loo_list = []\n",
    "std_loss_loo_list = []\n",
    "\n",
    "for _ in size_loo_list:\n",
    "    mean_loss_loo_list.append([])\n",
    "    std_loss_loo_list.append([])\n",
    "\n",
    "for size in size_loo_list:\n",
    "    for m in m_loo_list:\n",
    "        mean, std = MSE_loo(m, k, X, y)\n",
    "        mean_loss_loo_list[size//20-1].append(mean)\n",
    "        std_loss_loo_list[size//20-1].append(std)\n",
    "        \n",
    "mean_loss_loo_list = np.array(mean_loss_loo_list)\n",
    "std_loss_loo_list = np.array(std_loss_loo_list)"
   ]
  },
  {
   "cell_type": "code",
   "execution_count": null,
   "metadata": {},
   "outputs": [],
   "source": [
    "fig, ax = plt.subplots(figsize=(20, 8))\n",
    "ax.set_title('MSE depending on m - number of regressors')\n",
    "for size in size_loo_list:\n",
    "    ax.semilogy(np.log(mean_loss_loo_list[size//20-1]), label=f'share={size/100}')\n",
    "ax.legend()\n",
    "ax.grid()\n",
    "plt.show()"
   ]
  },
  {
   "cell_type": "code",
   "execution_count": null,
   "metadata": {},
   "outputs": [],
   "source": [
    "fig, axs = plt.subplots(len(k_kfolds_list), \n",
    "                               1, figsize=(10, 4*len(k_kfolds_list)))\n",
    "\n",
    "colors = ['b', 'r', 'g', 'm', 'c']\n",
    "for i in range(len(axs)):\n",
    "    axs[i].set_title('MSE depending on m - number of regressors')\n",
    "    axs[i].plot(np.log(mean_loss_loo_list[size_loo_list[i]//20-1]), f'{colors[i]}', linewidth=2, label=f'share={size_loo_list[i]/100}')\n",
    "    axs[i].plot(np.log(mean_loss_loo_list[size_loo_list[i]//20-1] \\\n",
    "                - std_loss_kfolds_list[size_loo_list[i]//20-1]), f'{colors[i]}--', linewidth=1)\n",
    "    axs[i].plot(np.log(mean_loss_kfolds_list[size_loo_list[i]//20-1] \\\n",
    "                + std_loss_kfolds_list[size_loo_list[i]//20-1]), f'{colors[i]}--', linewidth=1)\n",
    "    axs[i].legend()\n",
    "    axs[i].grid()\n",
    "plt.show()"
   ]
  },
  {
   "cell_type": "code",
   "execution_count": null,
   "metadata": {},
   "outputs": [],
   "source": []
  }
 ],
 "metadata": {
  "kernelspec": {
   "display_name": "Python 3",
   "language": "python",
   "name": "python3"
  }
 },
 "nbformat": 4,
 "nbformat_minor": 5
}
