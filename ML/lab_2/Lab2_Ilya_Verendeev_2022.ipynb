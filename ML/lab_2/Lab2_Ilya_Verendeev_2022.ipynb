{
 "cells": [
  {
   "cell_type": "markdown",
   "metadata": {},
   "source": [
    "#### Импорт базовых библиотек"
   ]
  },
  {
   "cell_type": "code",
   "execution_count": 1,
   "metadata": {},
   "outputs": [],
   "source": [
    "#!pip show scikit-learn"
   ]
  },
  {
   "cell_type": "code",
   "execution_count": 2,
   "metadata": {},
   "outputs": [],
   "source": [
    "#!pip install -U scikit-learn"
   ]
  },
  {
   "cell_type": "code",
   "execution_count": 3,
   "metadata": {},
   "outputs": [],
   "source": [
    "import numpy as np\n",
    "import pandas as pd\n",
    "import scipy as sc\n",
    "from tqdm import tqdm\n",
    "import matplotlib.pyplot as plt\n",
    "from sklearn.metrics import confusion_matrix, ConfusionMatrixDisplay\n",
    "\n",
    "import seaborn\n",
    "from sklearn.model_selection import train_test_split\n",
    "from tqdm import tqdm"
   ]
  },
  {
   "cell_type": "markdown",
   "metadata": {},
   "source": [
    "#### Чтение исходных данных:"
   ]
  },
  {
   "cell_type": "code",
   "execution_count": 34,
   "metadata": {},
   "outputs": [],
   "source": [
    "DATA_PATH = r\"data_ml_v2-02.csv\"\n",
    "raw_df = pd.read_csv(DATA_PATH)"
   ]
  },
  {
   "cell_type": "code",
   "execution_count": 35,
   "metadata": {},
   "outputs": [
    {
     "data": {
      "text/html": [
       "<div>\n",
       "<style scoped>\n",
       "    .dataframe tbody tr th:only-of-type {\n",
       "        vertical-align: middle;\n",
       "    }\n",
       "\n",
       "    .dataframe tbody tr th {\n",
       "        vertical-align: top;\n",
       "    }\n",
       "\n",
       "    .dataframe thead th {\n",
       "        text-align: right;\n",
       "    }\n",
       "</style>\n",
       "<table border=\"1\" class=\"dataframe\">\n",
       "  <thead>\n",
       "    <tr style=\"text-align: right;\">\n",
       "      <th></th>\n",
       "      <th>x1</th>\n",
       "      <th>x2</th>\n",
       "      <th>label</th>\n",
       "      <th>score</th>\n",
       "    </tr>\n",
       "  </thead>\n",
       "  <tbody>\n",
       "    <tr>\n",
       "      <th>0</th>\n",
       "      <td>1.59980</td>\n",
       "      <td>0.76857</td>\n",
       "      <td>-1</td>\n",
       "      <td>-2.9341</td>\n",
       "    </tr>\n",
       "    <tr>\n",
       "      <th>1</th>\n",
       "      <td>0.95352</td>\n",
       "      <td>-1.00240</td>\n",
       "      <td>-1</td>\n",
       "      <td>-4.7261</td>\n",
       "    </tr>\n",
       "    <tr>\n",
       "      <th>2</th>\n",
       "      <td>1.75880</td>\n",
       "      <td>0.86545</td>\n",
       "      <td>-1</td>\n",
       "      <td>-2.7575</td>\n",
       "    </tr>\n",
       "    <tr>\n",
       "      <th>3</th>\n",
       "      <td>2.67900</td>\n",
       "      <td>1.98140</td>\n",
       "      <td>-1</td>\n",
       "      <td>-1.3024</td>\n",
       "    </tr>\n",
       "    <tr>\n",
       "      <th>4</th>\n",
       "      <td>1.67920</td>\n",
       "      <td>0.59262</td>\n",
       "      <td>-1</td>\n",
       "      <td>-3.0209</td>\n",
       "    </tr>\n",
       "  </tbody>\n",
       "</table>\n",
       "</div>"
      ],
      "text/plain": [
       "        x1       x2  label   score\n",
       "0  1.59980  0.76857     -1 -2.9341\n",
       "1  0.95352 -1.00240     -1 -4.7261\n",
       "2  1.75880  0.86545     -1 -2.7575\n",
       "3  2.67900  1.98140     -1 -1.3024\n",
       "4  1.67920  0.59262     -1 -3.0209"
      ]
     },
     "execution_count": 35,
     "metadata": {},
     "output_type": "execute_result"
    }
   ],
   "source": [
    "raw_df.head()"
   ]
  },
  {
   "cell_type": "code",
   "execution_count": null,
   "metadata": {},
   "outputs": [],
   "source": []
  },
  {
   "cell_type": "code",
   "execution_count": 36,
   "metadata": {},
   "outputs": [],
   "source": [
    "raw_df['exp'] = raw_df['score'].apply(lambda x: 1/(1 + np.exp(-x)))\n",
    "raw_df['pred_label'] = raw_df['exp'].apply(lambda x: 1 if x >= 0.5 else -1)\n",
    "raw_df['true_label_named'] = raw_df['label'].apply(lambda x: {1: \"positive\", -1: \"negative\"}[x])\n",
    "raw_df['pred_label_named'] = raw_df['pred_label'].apply(lambda x: {1: \"positive\", -1: \"negative\"}[x])"
   ]
  },
  {
   "cell_type": "code",
   "execution_count": 6,
   "metadata": {},
   "outputs": [
    {
     "name": "stdout",
     "output_type": "stream",
     "text": [
      "Data-size: 350\n",
      "Equal prediction: 327\n",
      "Non equal prediction: 23\n"
     ]
    }
   ],
   "source": [
    "print(f\"Data-size: {raw_df.shape[0]}\")\n",
    "print(f\"Equal prediction: {raw_df[raw_df['true_label_named'] == raw_df['pred_label_named']].shape[0]}\")\n",
    "print(f\"Non equal prediction: {raw_df[raw_df['true_label_named'] != raw_df['pred_label_named']].shape[0]}\")"
   ]
  },
  {
   "cell_type": "code",
   "execution_count": 40,
   "metadata": {},
   "outputs": [
    {
     "data": {
      "text/html": [
       "<div>\n",
       "<style scoped>\n",
       "    .dataframe tbody tr th:only-of-type {\n",
       "        vertical-align: middle;\n",
       "    }\n",
       "\n",
       "    .dataframe tbody tr th {\n",
       "        vertical-align: top;\n",
       "    }\n",
       "\n",
       "    .dataframe thead th {\n",
       "        text-align: right;\n",
       "    }\n",
       "</style>\n",
       "<table border=\"1\" class=\"dataframe\">\n",
       "  <thead>\n",
       "    <tr style=\"text-align: right;\">\n",
       "      <th></th>\n",
       "      <th>x1</th>\n",
       "      <th>x2</th>\n",
       "      <th>label</th>\n",
       "      <th>score</th>\n",
       "      <th>exp</th>\n",
       "      <th>pred_label</th>\n",
       "      <th>true_label_named</th>\n",
       "      <th>pred_label_named</th>\n",
       "    </tr>\n",
       "  </thead>\n",
       "  <tbody>\n",
       "    <tr>\n",
       "      <th>0</th>\n",
       "      <td>1.59980</td>\n",
       "      <td>0.76857</td>\n",
       "      <td>-1</td>\n",
       "      <td>-2.9341</td>\n",
       "      <td>0.050493</td>\n",
       "      <td>-1</td>\n",
       "      <td>negative</td>\n",
       "      <td>negative</td>\n",
       "    </tr>\n",
       "    <tr>\n",
       "      <th>1</th>\n",
       "      <td>0.95352</td>\n",
       "      <td>-1.00240</td>\n",
       "      <td>-1</td>\n",
       "      <td>-4.7261</td>\n",
       "      <td>0.008783</td>\n",
       "      <td>-1</td>\n",
       "      <td>negative</td>\n",
       "      <td>negative</td>\n",
       "    </tr>\n",
       "    <tr>\n",
       "      <th>2</th>\n",
       "      <td>1.75880</td>\n",
       "      <td>0.86545</td>\n",
       "      <td>-1</td>\n",
       "      <td>-2.7575</td>\n",
       "      <td>0.059664</td>\n",
       "      <td>-1</td>\n",
       "      <td>negative</td>\n",
       "      <td>negative</td>\n",
       "    </tr>\n",
       "    <tr>\n",
       "      <th>3</th>\n",
       "      <td>2.67900</td>\n",
       "      <td>1.98140</td>\n",
       "      <td>-1</td>\n",
       "      <td>-1.3024</td>\n",
       "      <td>0.213761</td>\n",
       "      <td>-1</td>\n",
       "      <td>negative</td>\n",
       "      <td>negative</td>\n",
       "    </tr>\n",
       "    <tr>\n",
       "      <th>4</th>\n",
       "      <td>1.67920</td>\n",
       "      <td>0.59262</td>\n",
       "      <td>-1</td>\n",
       "      <td>-3.0209</td>\n",
       "      <td>0.046491</td>\n",
       "      <td>-1</td>\n",
       "      <td>negative</td>\n",
       "      <td>negative</td>\n",
       "    </tr>\n",
       "  </tbody>\n",
       "</table>\n",
       "</div>"
      ],
      "text/plain": [
       "        x1       x2  label   score       exp  pred_label true_label_named  \\\n",
       "0  1.59980  0.76857     -1 -2.9341  0.050493          -1         negative   \n",
       "1  0.95352 -1.00240     -1 -4.7261  0.008783          -1         negative   \n",
       "2  1.75880  0.86545     -1 -2.7575  0.059664          -1         negative   \n",
       "3  2.67900  1.98140     -1 -1.3024  0.213761          -1         negative   \n",
       "4  1.67920  0.59262     -1 -3.0209  0.046491          -1         negative   \n",
       "\n",
       "  pred_label_named  \n",
       "0         negative  \n",
       "1         negative  \n",
       "2         negative  \n",
       "3         negative  \n",
       "4         negative  "
      ]
     },
     "execution_count": 40,
     "metadata": {},
     "output_type": "execute_result"
    }
   ],
   "source": [
    "raw_df.head()"
   ]
  },
  {
   "cell_type": "markdown",
   "metadata": {},
   "source": [
    "#### Задания\n",
    "1) Построить таблицу сопряженности по заданным результатам бинарной классификации."
   ]
  },
  {
   "cell_type": "code",
   "execution_count": 7,
   "metadata": {},
   "outputs": [
    {
     "data": {
      "text/html": [
       "<div>\n",
       "<style scoped>\n",
       "    .dataframe tbody tr th:only-of-type {\n",
       "        vertical-align: middle;\n",
       "    }\n",
       "\n",
       "    .dataframe tbody tr th {\n",
       "        vertical-align: top;\n",
       "    }\n",
       "\n",
       "    .dataframe thead th {\n",
       "        text-align: right;\n",
       "    }\n",
       "</style>\n",
       "<table border=\"1\" class=\"dataframe\">\n",
       "  <thead>\n",
       "    <tr style=\"text-align: right;\">\n",
       "      <th>Predicted</th>\n",
       "      <th>negative</th>\n",
       "      <th>positive</th>\n",
       "    </tr>\n",
       "    <tr>\n",
       "      <th>Actual</th>\n",
       "      <th></th>\n",
       "      <th></th>\n",
       "    </tr>\n",
       "  </thead>\n",
       "  <tbody>\n",
       "    <tr>\n",
       "      <th>negative</th>\n",
       "      <td>295</td>\n",
       "      <td>5</td>\n",
       "    </tr>\n",
       "    <tr>\n",
       "      <th>positive</th>\n",
       "      <td>18</td>\n",
       "      <td>32</td>\n",
       "    </tr>\n",
       "  </tbody>\n",
       "</table>\n",
       "</div>"
      ],
      "text/plain": [
       "Predicted  negative  positive\n",
       "Actual                       \n",
       "negative        295         5\n",
       "positive         18        32"
      ]
     },
     "execution_count": 7,
     "metadata": {},
     "output_type": "execute_result"
    }
   ],
   "source": [
    "pd.crosstab(raw_df['true_label_named'], raw_df['pred_label_named'], rownames=['Actual'], colnames=['Predicted'])"
   ]
  },
  {
   "cell_type": "code",
   "execution_count": 8,
   "metadata": {},
   "outputs": [
    {
     "data": {
      "image/png": "[encoded data removed]",
      "text/plain": [
       "<Figure size 432x288 with 2 Axes>"
      ]
     },
     "metadata": {
      "needs_background": "light"
     },
     "output_type": "display_data"
    }
   ],
   "source": [
    "cf = confusion_matrix(raw_df['true_label_named'], raw_df['pred_label_named'])\n",
    "\n",
    "cm_display = ConfusionMatrixDisplay(confusion_matrix=cf, display_labels=[False, True])\n",
    "\n",
    "cm_display.plot()\n",
    "plt.show()"
   ]
  },
  {
   "cell_type": "code",
   "execution_count": 9,
   "metadata": {},
   "outputs": [],
   "source": [
    "TN = cf[0][0]\n",
    "FN = cf[1][0]\n",
    "FP = cf[0][1]\n",
    "TP = cf[1][1]"
   ]
  },
  {
   "cell_type": "markdown",
   "metadata": {},
   "source": [
    "2) Рассчитать показатели, основанные на таблице сопряженности: error rate, accuracy, sensitivity, specificity, precision, fall-out, F1-score, Cohen’s kappa."
   ]
  },
  {
   "cell_type": "code",
   "execution_count": 10,
   "metadata": {},
   "outputs": [],
   "source": [
    "metrics = {\"status\": \"original\"}"
   ]
  },
  {
   "cell_type": "code",
   "execution_count": 11,
   "metadata": {},
   "outputs": [
    {
     "name": "stdout",
     "output_type": "stream",
     "text": [
      "Accuracy = 0.93\n"
     ]
    }
   ],
   "source": [
    "accuracy = (TN + TP) / (TN + FN + FP + TP)\n",
    "metrics['accuracy'] = [accuracy]\n",
    "\n",
    "print(f\"Accuracy = {round(accuracy, 2)}\")"
   ]
  },
  {
   "cell_type": "code",
   "execution_count": 12,
   "metadata": {},
   "outputs": [
    {
     "name": "stdout",
     "output_type": "stream",
     "text": [
      "Error rate = 0.07\n"
     ]
    }
   ],
   "source": [
    "error_rate = (FN + FP) / (TN + FN + FP + TP)\n",
    "metrics['error_rate'] = [error_rate]\n",
    "\n",
    "print(f\"Error rate = {round(error_rate, 2)}\")"
   ]
  },
  {
   "cell_type": "code",
   "execution_count": 13,
   "metadata": {},
   "outputs": [
    {
     "name": "stdout",
     "output_type": "stream",
     "text": [
      "Sensitivity = 0.64\n"
     ]
    }
   ],
   "source": [
    "sensitivity = TP / (TP + FN)\n",
    "metrics['sensitivity'] = [sensitivity]\n",
    "\n",
    "print(f\"Sensitivity = {round(sensitivity, 2)}\")"
   ]
  },
  {
   "cell_type": "code",
   "execution_count": 14,
   "metadata": {},
   "outputs": [
    {
     "name": "stdout",
     "output_type": "stream",
     "text": [
      "Specificity = 0.98\n"
     ]
    }
   ],
   "source": [
    "specificity = TN / (TN + FP)\n",
    "metrics['specificity'] = [specificity]\n",
    "\n",
    "print(f\"Specificity = {round(specificity, 2)}\")"
   ]
  },
  {
   "cell_type": "code",
   "execution_count": 15,
   "metadata": {},
   "outputs": [
    {
     "name": "stdout",
     "output_type": "stream",
     "text": [
      "Precision = 0.86\n"
     ]
    }
   ],
   "source": [
    "precision = TP / (TP + FP)\n",
    "metrics['precision'] = [precision]\n",
    "\n",
    "print(f\"Precision = {round(precision, 2)}\")"
   ]
  },
  {
   "cell_type": "code",
   "execution_count": 16,
   "metadata": {},
   "outputs": [
    {
     "name": "stdout",
     "output_type": "stream",
     "text": [
      "Recall = 0.64\n"
     ]
    }
   ],
   "source": [
    "recall = TP / (TP + FN)\n",
    "metrics['recall'] = [recall]\n",
    "\n",
    "print(f\"Recall = {round(recall, 2)}\")"
   ]
  },
  {
   "cell_type": "code",
   "execution_count": 17,
   "metadata": {},
   "outputs": [
    {
     "name": "stdout",
     "output_type": "stream",
     "text": [
      "Fall out = 0.02\n"
     ]
    }
   ],
   "source": [
    "fall_out = FP / (FP + TN)\n",
    "metrics[\"fall_out\"] = [fall_out]\n",
    "\n",
    "print(f\"Fall out = {round(fall_out, 2)}\")"
   ]
  },
  {
   "cell_type": "code",
   "execution_count": 18,
   "metadata": {},
   "outputs": [
    {
     "name": "stdout",
     "output_type": "stream",
     "text": [
      "F1 = 0.74\n"
     ]
    }
   ],
   "source": [
    "f1_score = 2 * (precision * recall) / (precision + recall)\n",
    "metrics['f1_score'] = [f1_score]\n",
    "\n",
    "print(f\"F1 = {round(f1_score, 2)}\")"
   ]
  },
  {
   "cell_type": "code",
   "execution_count": 19,
   "metadata": {},
   "outputs": [
    {
     "name": "stdout",
     "output_type": "stream",
     "text": [
      "Cohen’s kappa = 0.7\n"
     ]
    }
   ],
   "source": [
    "cohens_kappa = 2 * (TP * TN - FN * FP) / ((TP + FP) * (FP + TN) + (TP + FN) * (FN + TN))\n",
    "metrics['cohens_kappa'] = [cohens_kappa]\n",
    "\n",
    "print(f\"Cohen’s kappa = {round(cohens_kappa, 2)}\")"
   ]
  },
  {
   "cell_type": "code",
   "execution_count": 20,
   "metadata": {},
   "outputs": [
    {
     "data": {
      "text/html": [
       "<div>\n",
       "<style scoped>\n",
       "    .dataframe tbody tr th:only-of-type {\n",
       "        vertical-align: middle;\n",
       "    }\n",
       "\n",
       "    .dataframe tbody tr th {\n",
       "        vertical-align: top;\n",
       "    }\n",
       "\n",
       "    .dataframe thead th {\n",
       "        text-align: right;\n",
       "    }\n",
       "</style>\n",
       "<table border=\"1\" class=\"dataframe\">\n",
       "  <thead>\n",
       "    <tr style=\"text-align: right;\">\n",
       "      <th></th>\n",
       "      <th>status</th>\n",
       "      <th>accuracy</th>\n",
       "      <th>error_rate</th>\n",
       "      <th>sensitivity</th>\n",
       "      <th>specificity</th>\n",
       "      <th>precision</th>\n",
       "      <th>recall</th>\n",
       "      <th>fall_out</th>\n",
       "      <th>f1_score</th>\n",
       "      <th>cohens_kappa</th>\n",
       "    </tr>\n",
       "  </thead>\n",
       "  <tbody>\n",
       "    <tr>\n",
       "      <th>0</th>\n",
       "      <td>original</td>\n",
       "      <td>0.934286</td>\n",
       "      <td>0.065714</td>\n",
       "      <td>0.64</td>\n",
       "      <td>0.983333</td>\n",
       "      <td>0.864865</td>\n",
       "      <td>0.64</td>\n",
       "      <td>0.016667</td>\n",
       "      <td>0.735632</td>\n",
       "      <td>0.699065</td>\n",
       "    </tr>\n",
       "  </tbody>\n",
       "</table>\n",
       "</div>"
      ],
      "text/plain": [
       "     status  accuracy  error_rate  sensitivity  specificity  precision  \\\n",
       "0  original  0.934286    0.065714         0.64     0.983333   0.864865   \n",
       "\n",
       "   recall  fall_out  f1_score  cohens_kappa  \n",
       "0    0.64  0.016667  0.735632      0.699065  "
      ]
     },
     "execution_count": 20,
     "metadata": {},
     "output_type": "execute_result"
    }
   ],
   "source": [
    "metrics_df = pd.DataFrame.from_dict(metrics)\n",
    "metrics_df"
   ]
  },
  {
   "cell_type": "markdown",
   "metadata": {},
   "source": [
    "3) Построить график зависимости F()."
   ]
  },
  {
   "cell_type": "code",
   "execution_count": 21,
   "metadata": {},
   "outputs": [],
   "source": [
    "f_betta = lambda x: (1 + x**2) * (precision * recall) / (x**2 * precision + recall)"
   ]
  },
  {
   "cell_type": "code",
   "execution_count": 22,
   "metadata": {},
   "outputs": [
    {
     "data": {
      "image/png": "[encoded data removed]",
      "text/plain": [
       "<Figure size 432x288 with 1 Axes>"
      ]
     },
     "metadata": {
      "needs_background": "light"
     },
     "output_type": "display_data"
    }
   ],
   "source": [
    "x = range(1, 10)\n",
    "y = [f_betta(xi) for xi in x]\n",
    "\n",
    "plt.title(\"F score by betta factor\")\n",
    "\n",
    "plt.plot(x, y)\n",
    "plt.xlabel('Betta')\n",
    "plt.ylabel('F score')\n",
    "plt.grid()\n",
    "plt.show()"
   ]
  },
  {
   "cell_type": "markdown",
   "metadata": {},
   "source": [
    "Построить графики зависимости чувствительности и специфичности от объёма выборки."
   ]
  },
  {
   "cell_type": "code",
   "execution_count": 23,
   "metadata": {},
   "outputs": [
    {
     "data": {
      "text/plain": [
       "(2, 2)"
      ]
     },
     "execution_count": 23,
     "metadata": {},
     "output_type": "execute_result"
    }
   ],
   "source": [
    "cf.shape"
   ]
  },
  {
   "cell_type": "code",
   "execution_count": 24,
   "metadata": {},
   "outputs": [],
   "source": [
    "def dataset(size: int):\n",
    "    tmp_df = raw_df.sample(size)\n",
    "    cf = confusion_matrix(tmp_df[\"true_label_named\"], tmp_df[\"pred_label_named\"])\n",
    "    if cf.shape == (1, 1):\n",
    "        TN = 0\n",
    "        FN = 0\n",
    "        FP = cf[0][0]\n",
    "        TP = 0\n",
    "    elif cf.shape == (1, 2):\n",
    "        TN = cf[0][1]\n",
    "        FN = 0\n",
    "        FP = cf[0][0]\n",
    "        TP = 0\n",
    "    else:\n",
    "        TN = cf[0][0]\n",
    "        FN = cf[1][0]\n",
    "        FP = cf[0][1]\n",
    "        TP = cf[1][1]\n",
    "    return 0 if TP + FN == 0 else TP / (TP + FN), 0 if TN + FP == 0 else TN / (TN + FP)\n",
    "\n",
    "\n",
    "def experiments(size: int):\n",
    "    sens, spec = 0, 0\n",
    "    for i in range(1000):\n",
    "        tmp_sens, tmp_spec = dataset(size)\n",
    "        sens += tmp_sens\n",
    "        spec += tmp_spec\n",
    "    return sens / 1000, spec / 1000\n",
    "\n",
    "\n",
    "sensitivity, specificity = experiments(3)"
   ]
  },
  {
   "cell_type": "code",
   "execution_count": 25,
   "metadata": {},
   "outputs": [
    {
     "name": "stderr",
     "output_type": "stream",
     "text": [
      "100%|██████████████████████████████████████████████████████████████████████████████████| 35/35 [00:48<00:00,  1.38s/it]"
     ]
    },
    {
     "name": "stdout",
     "output_type": "stream",
     "text": [
      "Wall time: 48.3 s\n"
     ]
    },
    {
     "name": "stderr",
     "output_type": "stream",
     "text": [
      "\n"
     ]
    }
   ],
   "source": [
    "%%time\n",
    "x = range(1, 350, 10)\n",
    "y = [experiments(xi) for xi in tqdm(x)]"
   ]
  },
  {
   "cell_type": "code",
   "execution_count": 26,
   "metadata": {},
   "outputs": [
    {
     "data": {
      "image/png": "[encoded data removed]",
      "text/plain": [
       "<Figure size 432x288 with 1 Axes>"
      ]
     },
     "metadata": {
      "needs_background": "light"
     },
     "output_type": "display_data"
    }
   ],
   "source": [
    "plt.title(\"Sensitivity, specificity by sample size\")\n",
    "\n",
    "plt.plot(x, [yi[0] for yi in y], label='sensitivity')\n",
    "plt.plot(x, [yi[1] for yi in y], label='specificity')\n",
    "plt.xlabel('Sample size')\n",
    "plt.ylabel('Sensitivity, specificity')\n",
    "plt.legend()\n",
    "plt.grid()\n",
    "plt.show()"
   ]
  },
  {
   "cell_type": "markdown",
   "metadata": {},
   "source": [
    "5) Сравнить значения показателей, основанных на таблице сопряженности,  для случая, если положительные и отрицательные классы инвертированы (т.е. если все метки +1 заменить на -1, и все метки -1 – на +1)."
   ]
  },
  {
   "cell_type": "code",
   "execution_count": 27,
   "metadata": {},
   "outputs": [],
   "source": [
    "raw_inversed_df = raw_df.copy()\n",
    "raw_inversed_df[\"exp\"] = raw_inversed_df[\"score\"].apply(lambda x: 1 / (1 + np.exp(-x)))\n",
    "raw_inversed_df[\"pred_label\"] = raw_inversed_df[\"exp\"].apply(\n",
    "    lambda x: 1 if x >= 0.5 else -1\n",
    ")\n",
    "raw_inversed_df[\"true_label_named\"] = raw_inversed_df[\"label\"].apply(\n",
    "    lambda x: {-1: \"positive\", 1: \"negative\"}[x]\n",
    ")\n",
    "raw_inversed_df[\"pred_label_named\"] = raw_inversed_df[\"pred_label\"].apply(\n",
    "    lambda x: {-1: \"positive\", 1: \"negative\"}[x]\n",
    ")"
   ]
  },
  {
   "cell_type": "code",
   "execution_count": 28,
   "metadata": {},
   "outputs": [
    {
     "name": "stdout",
     "output_type": "stream",
     "text": [
      "Data-size: 350\n",
      "Equal prediction: 327\n",
      "Non equal prediction: 23\n"
     ]
    }
   ],
   "source": [
    "print(f\"Data-size: {raw_df.shape[0]}\")\n",
    "print(f\"Equal prediction: {raw_df[raw_df['true_label_named'] == raw_df['pred_label_named']].shape[0]}\")\n",
    "print(f\"Non equal prediction: {raw_df[raw_df['true_label_named'] != raw_df['pred_label_named']].shape[0]}\")"
   ]
  },
  {
   "cell_type": "code",
   "execution_count": 29,
   "metadata": {},
   "outputs": [],
   "source": [
    "cf = confusion_matrix(raw_inversed_df['true_label_named'], raw_inversed_df['pred_label_named'])\n",
    "\n",
    "TN = cf[0][0]\n",
    "FN = cf[1][0]\n",
    "FP = cf[0][1]\n",
    "TP = cf[1][1]"
   ]
  },
  {
   "cell_type": "code",
   "execution_count": 30,
   "metadata": {},
   "outputs": [],
   "source": [
    "metrics = {\"status\": \"inversed\"}"
   ]
  },
  {
   "cell_type": "code",
   "execution_count": 31,
   "metadata": {},
   "outputs": [
    {
     "name": "stdout",
     "output_type": "stream",
     "text": [
      "Accuracy = 0.93\n",
      "Error rate = 0.07\n",
      "Sensitivity = 0.98\n",
      "Specificity = 0.64\n",
      "Precision = 0.94\n",
      "Recall = 0.98\n",
      "Fall out = 0.36\n",
      "F1 = 0.96\n",
      "Cohen’s kappa = 0.7\n"
     ]
    }
   ],
   "source": [
    "accuracy = (TN + TP) / (TN + FN + FP + TP)\n",
    "metrics['accuracy'] = [accuracy]\n",
    "\n",
    "print(f\"Accuracy = {round(accuracy, 2)}\")\n",
    "\n",
    "error_rate = (FN + FP) / (TN + FN + FP + TP)\n",
    "metrics['error_rate'] = [error_rate]\n",
    "\n",
    "print(f\"Error rate = {round(error_rate, 2)}\")\n",
    "\n",
    "sensitivity = TP / (TP + FN)\n",
    "metrics['sensitivity'] = [sensitivity]\n",
    "\n",
    "print(f\"Sensitivity = {round(sensitivity, 2)}\")\n",
    "\n",
    "specificity = TN / (TN + FP)\n",
    "metrics['specificity'] = [specificity]\n",
    "\n",
    "print(f\"Specificity = {round(specificity, 2)}\")\n",
    "\n",
    "precision = TP / (TP + FP)\n",
    "metrics['precision'] = [precision]\n",
    "\n",
    "print(f\"Precision = {round(precision, 2)}\")\n",
    "\n",
    "recall = TP / (TP + FN)\n",
    "metrics['recall'] = [recall]\n",
    "\n",
    "print(f\"Recall = {round(recall, 2)}\")\n",
    "\n",
    "fall_out = FP / (FP + TN)\n",
    "metrics[\"fall_out\"] = [fall_out]\n",
    "\n",
    "print(f\"Fall out = {round(fall_out, 2)}\")\n",
    "\n",
    "f1_score = 2 * (precision * recall) / (precision + recall)\n",
    "metrics['f1_score'] = [f1_score]\n",
    "\n",
    "print(f\"F1 = {round(f1_score, 2)}\")\n",
    "\n",
    "cohens_kappa = 2 * (TP * TN - FN * FP) / ((TP + FP) * (FP + TN) + (TP + FN) * (FN + TN))\n",
    "metrics['cohens_kappa'] = [cohens_kappa]\n",
    "\n",
    "print(f\"Cohen’s kappa = {round(cohens_kappa, 2)}\")"
   ]
  },
  {
   "cell_type": "code",
   "execution_count": 32,
   "metadata": {},
   "outputs": [
    {
     "data": {
      "text/html": [
       "<div>\n",
       "<style scoped>\n",
       "    .dataframe tbody tr th:only-of-type {\n",
       "        vertical-align: middle;\n",
       "    }\n",
       "\n",
       "    .dataframe tbody tr th {\n",
       "        vertical-align: top;\n",
       "    }\n",
       "\n",
       "    .dataframe thead th {\n",
       "        text-align: right;\n",
       "    }\n",
       "</style>\n",
       "<table border=\"1\" class=\"dataframe\">\n",
       "  <thead>\n",
       "    <tr style=\"text-align: right;\">\n",
       "      <th></th>\n",
       "      <th>status</th>\n",
       "      <th>accuracy</th>\n",
       "      <th>error_rate</th>\n",
       "      <th>sensitivity</th>\n",
       "      <th>specificity</th>\n",
       "      <th>precision</th>\n",
       "      <th>recall</th>\n",
       "      <th>fall_out</th>\n",
       "      <th>f1_score</th>\n",
       "      <th>cohens_kappa</th>\n",
       "    </tr>\n",
       "  </thead>\n",
       "  <tbody>\n",
       "    <tr>\n",
       "      <th>0</th>\n",
       "      <td>original</td>\n",
       "      <td>0.934286</td>\n",
       "      <td>0.065714</td>\n",
       "      <td>0.640000</td>\n",
       "      <td>0.983333</td>\n",
       "      <td>0.864865</td>\n",
       "      <td>0.640000</td>\n",
       "      <td>0.016667</td>\n",
       "      <td>0.735632</td>\n",
       "      <td>0.699065</td>\n",
       "    </tr>\n",
       "    <tr>\n",
       "      <th>0</th>\n",
       "      <td>inversed</td>\n",
       "      <td>0.934286</td>\n",
       "      <td>0.065714</td>\n",
       "      <td>0.983333</td>\n",
       "      <td>0.640000</td>\n",
       "      <td>0.942492</td>\n",
       "      <td>0.983333</td>\n",
       "      <td>0.360000</td>\n",
       "      <td>0.962480</td>\n",
       "      <td>0.699065</td>\n",
       "    </tr>\n",
       "  </tbody>\n",
       "</table>\n",
       "</div>"
      ],
      "text/plain": [
       "     status  accuracy  error_rate  sensitivity  specificity  precision  \\\n",
       "0  original  0.934286    0.065714     0.640000     0.983333   0.864865   \n",
       "0  inversed  0.934286    0.065714     0.983333     0.640000   0.942492   \n",
       "\n",
       "     recall  fall_out  f1_score  cohens_kappa  \n",
       "0  0.640000  0.016667  0.735632      0.699065  \n",
       "0  0.983333  0.360000  0.962480      0.699065  "
      ]
     },
     "execution_count": 32,
     "metadata": {},
     "output_type": "execute_result"
    }
   ],
   "source": [
    "metrics_df2 = pd.DataFrame.from_dict(metrics)\n",
    "metrics_df = pd.concat([metrics_df, metrics_df2])\n",
    "metrics_df"
   ]
  },
  {
   "cell_type": "markdown",
   "metadata": {},
   "source": [
    "6) Сделать выводы о качестве классификации на основе рассчитанных значений показателей."
   ]
  },
  {
   "cell_type": "markdown",
   "metadata": {},
   "source": []
  },
  {
   "cell_type": "code",
   "execution_count": null,
   "metadata": {},
   "outputs": [],
   "source": []
  },
  {
   "cell_type": "code",
   "execution_count": null,
   "metadata": {},
   "outputs": [],
   "source": []
  }
 ],
 "metadata": {
  "kernelspec": {
   "display_name": "Python 3",
   "language": "python",
   "name": "python3"
  },
  "language_info": {
   "codemirror_mode": {
    "name": "ipython",
    "version": 3
   },
   "file_extension": ".py",
   "mimetype": "text/x-python",
   "name": "python",
   "nbconvert_exporter": "python",
   "pygments_lexer": "ipython3",
   "version": "3.7.3"
  }
 },
 "nbformat": 4,
 "nbformat_minor": 5
}
